{
 "cells": [
  {
   "cell_type": "code",
   "execution_count": 1,
   "metadata": {},
   "outputs": [
    {
     "data": {
      "text/plain": [
       "2"
      ]
     },
     "execution_count": 1,
     "metadata": {},
     "output_type": "execute_result"
    }
   ],
   "source": [
    "1 + 1 "
   ]
  },
  {
   "cell_type": "code",
   "execution_count": null,
   "metadata": {},
   "outputs": [],
   "source": [
    "import json\n",
    "import random\n",
    "\n",
    "# 读取JSON数据\n",
    "with open('dataset/AMchat_dataset.json', 'r', encoding='utf-8') as file:\n",
    "    data = json.load(file)\n",
    "\n",
    "# 定义要选择的数据条数\n",
    "num_selections = 3  # 你可以修改这个数字来选择不同数量的数据\n",
    "\n",
    "# 随机选择数据\n",
    "selected_data = random.sample(data, num_selections)\n",
    "\n",
    "# 打印选中的数据\n",
    "for i, item in enumerate(selected_data, 1):\n",
    "    print(f\"\\n选择 {i}:\")\n",
    "    print(f\"Input: {item['conversation'][0]['input']}\")\n",
    "    print(f\"Output: {item['conversation'][0]['output']}\")\n",
    "    print(\"-\" * 50)"
   ]
  },
  {
   "cell_type": "code",
   "execution_count": null,
   "metadata": {},
   "outputs": [],
   "source": [
    "import json\n",
    "\n",
    "# 读取现有的JSON文件\n",
    "with open('math_problems.json', 'r', encoding='utf-8') as file:\n",
    "    data = json.load(file)\n",
    "\n",
    "# 多个增强后的数据条目，确保数学逻辑正确\n",
    "new_entries = [\n",
    "    {\n",
    "        \"conversation\": [\n",
    "            {\n",
    "                \"input\": \"将平面任意分成4个部分, 请证明一定存在一条直线通过其中至少三个部分.\",\n",
    "                \"output\": \"证明: 我们采用反证法, 即假设任意一条直线最多通过其中两个部分. 我们在4个不同部分中的每个部分都挑选一个点, 不妨设 A, B, C, D, 请注意显然直线对 (AB, CD), (AC, BD), (AD, BC) 中必有一个不是平行的, 从而会有交点, 该交点无论是属于哪个部分都会导致矛盾。\"\n",
    "            }\n",
    "        ]\n",
    "    },\n",
    "    {\n",
    "        \"conversation\": [\n",
    "            {\n",
    "                \"input\": \"平面被任意划分为四个区域，证明：必定存在一条直线，使得该直线至少穿过其中三个区域。\",\n",
    "                \"output\": \"证明：\\n1. 反证法：假设不存在穿过至少三个区域的直线。 在四个区域中各取一点，记为W、X、Y、Z, 显然它们一定会产生六条不重合的直线。考虑以下直线对：(WX,YZ)、(WY,XZ)、(WZ,XY)。每条直线最多穿过两个区域，因此这三组直线必须两两平行。 然而通过某个有并且仅有一条直线与已知直线平行, 从而导致矛盾。\"\n",
    "            }\n",
    "        ]\n",
    "    }\n",
    "]\n",
    "\n",
    "# 将新的数据条目添加到现有数据中\n",
    "data.extend(new_entries)\n",
    "\n",
    "# 将更新后的数据写回JSON文件\n",
    "with open('math_problems.json', 'w', encoding='utf-8') as file:\n",
    "    json.dump(data, file, ensure_ascii=False, indent=4)\n",
    "\n",
    "print(f\"已成功添加 {len(new_entries)} 个新的数据条目到JSON文件中。\")"
   ]
  }
 ],
 "metadata": {
  "kernelspec": {
   "display_name": "AMchat",
   "language": "python",
   "name": "python3"
  },
  "language_info": {
   "codemirror_mode": {
    "name": "ipython",
    "version": 3
   },
   "file_extension": ".py",
   "mimetype": "text/x-python",
   "name": "python",
   "nbconvert_exporter": "python",
   "pygments_lexer": "ipython3",
   "version": "3.10.13"
  }
 },
 "nbformat": 4,
 "nbformat_minor": 2
}
